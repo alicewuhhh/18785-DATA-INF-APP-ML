{
 "cells": [
  {
   "cell_type": "code",
   "execution_count": 102,
   "id": "4507a4b7",
   "metadata": {},
   "outputs": [],
   "source": [
    "from scipy.stats import norm\n",
    "import scipy.stats as sts\n",
    "import math\n",
    "import pandas as pd\n",
    "import matplotlib.pyplot as plt\n",
    "import numpy as np\n",
    "import seaborn as sns\n",
    "import statsmodels.api as sm\n",
    "from matplotlib import dates\n",
    "from functools import reduce"
   ]
  },
  {
   "cell_type": "code",
   "execution_count": 93,
   "id": "a02b3e74",
   "metadata": {},
   "outputs": [],
   "source": [
    "file1='/Users/aliceqichaowu/Desktop/18785-DATA INF APP ML/Fertility.csv'\n",
    "file2='/Users/aliceqichaowu/Desktop/18785-DATA INF APP ML/GDP.PCAP.PPP.csv'\n",
    "file3='/Users/aliceqichaowu/Desktop/18785-DATA INF APP ML/Monthly Average House Price.xls'\n",
    "file4='/Users/aliceqichaowu/Desktop/18785-DATA INF APP ML/FTSE100.csv'\n",
    "Fertility=pd.read_csv(file1)\n",
    "GDP_PPP=pd.read_csv(file2,skiprows=4)\n",
    "House=pd.read_excel(file3)\n",
    "FTSE100=pd.read_csv(file4)"
   ]
  },
  {
   "cell_type": "markdown",
   "id": "c650820a",
   "metadata": {},
   "source": [
    "## Q1: One-sample two-tailed test\n",
    "Null Hypothesis:  the women’s energy intake does not deviate systematically from a recommended value of 7725 kJ;\n",
    "H0: population mean=7725\n",
    "\n",
    "Alternative Hypothesis: the women’s energy intake deviates systematically from a recommended value of 7725 kJ.\n",
    "H1: population mean≠7725"
   ]
  },
  {
   "cell_type": "code",
   "execution_count": 89,
   "id": "342c0337",
   "metadata": {},
   "outputs": [
    {
     "name": "stdout",
     "output_type": "stream",
     "text": [
      "Sample mean: 6753.636363636364\n",
      "Sample standard deviation: 1142.1232221373727\n",
      "SEM: 344.3631083801271\n"
     ]
    }
   ],
   "source": [
    "energy_intake=[5260,5470,5640,6180,6390,6515,6805,7515, 7515, 8230, 8770]\n",
    "alpha=0.05\n",
    "recom_val=7725\n",
    "n=len(energy_intake)\n",
    "samp_mean=sum(energy_intake)/n\n",
    "var=sum((x - samp_mean) ** 2 for x in energy_intake)/(n-1)\n",
    "samp_std=math.sqrt(var)\n",
    "SEM=sts.sem(energy_intake)\n",
    "print('Sample mean: '+ str(samp_mean)+'\\nSample standard deviation: '+str(samp_std)+'\\nSEM: '+str(SEM))"
   ]
  },
  {
   "cell_type": "code",
   "execution_count": 90,
   "id": "81acacd1",
   "metadata": {},
   "outputs": [
    {
     "name": "stdout",
     "output_type": "stream",
     "text": [
      "Degrees of freedom: 10\n",
      "t statistic is: -2.8207540608310198 \n",
      "p-value is: 0.018137235176105812\n"
     ]
    }
   ],
   "source": [
    "DoF=n-1\n",
    "print('Degrees of freedom: '+str(DoF))\n",
    "t_stats=sts.ttest_1samp(energy_intake, popmean=recom_val, alternative='two-sided')\n",
    "print('t statistic is: '+str(t_stats.statistic),'\\np-value is: '+str(t_stats.pvalue))"
   ]
  },
  {
   "cell_type": "markdown",
   "id": "c2469dc6",
   "metadata": {},
   "source": [
    "## Q2: Two-sample right-tailed t-test\n",
    "Null hypothesis: Guinness served in an Irish pub tastes sam as pints served elsewhere. Mean Ireland = Mean Elsewhere\n",
    "\n",
    "Alternative hypothesis: Guinness in an Irish pub tastes significantly better than pints served elsewhere. Mean Ireland - Mean Elsewhere >0\n",
    "\n",
    "Set up the mean, sd, and sample size of Ireland as m1,sd1,n1. Elsewhere: m2, sd2, n2"
   ]
  },
  {
   "cell_type": "code",
   "execution_count": 93,
   "id": "ad24afcf",
   "metadata": {},
   "outputs": [
    {
     "name": "stdout",
     "output_type": "stream",
     "text": [
      "method 1 calulcate manually: t-statistic: 11.647653131319812\n",
      "p-value: 1.095517028264447e-20\n",
      "method 2 use scipy library: t-statistic: 11.73775770205081\n",
      "p-value: 6.979768077580737e-21\n"
     ]
    }
   ],
   "source": [
    "n1=42;n2=61\n",
    "m1=74;m2=57\n",
    "sd1=7.4;sd2=7.1\n",
    "df=n1+n2-2\n",
    "## method 1\n",
    "t=(m1-m2)/math.sqrt((sd1**2/n1)+(sd2**2/n2))\n",
    "p_val=sts.t.sf(abs(t), df)\n",
    "print('method 1 calulcate manually: '+'t-statistic: '+str(t)+'\\np-value: '+str(p_val))\n",
    "## method 2\n",
    "t_stats=sts.ttest_ind_from_stats(mean1=m1, std1=sd1, nobs1=n1,\n",
    "                     mean2=m2, std2=sd2, nobs2=n2,alternative='greater')\n",
    "print('method 2 use scipy library: '+'t-statistic: '+str(t_stats.statistic)+'\\np-value: '+str(t_stats.pvalue))"
   ]
  },
  {
   "cell_type": "markdown",
   "id": "563f47aa",
   "metadata": {},
   "source": [
    "## Q3: Fertility Rate and GDP per capita PPP in 2013"
   ]
  },
  {
   "cell_type": "code",
   "execution_count": 94,
   "id": "6564171e",
   "metadata": {},
   "outputs": [
    {
     "name": "stdout",
     "output_type": "stream",
     "text": [
      "110    True\n",
      "Name: Country Name, dtype: bool\n"
     ]
    }
   ],
   "source": [
    "# print(Fertility['Country Name'])\n",
    "idx=(GDP_PPP['Country Name']=='Not classified') \n",
    "print(idx[idx==True])\n",
    "GDP_PPP=GDP_PPP.drop(110,axis=0)\n"
   ]
  },
  {
   "cell_type": "code",
   "execution_count": 97,
   "id": "e2bf6dfa",
   "metadata": {},
   "outputs": [
    {
     "data": {
      "image/png": "[encoded data removed]",
      "text/plain": [
       "<Figure size 432x288 with 1 Axes>"
      ]
     },
     "metadata": {
      "needs_background": "light"
     },
     "output_type": "display_data"
    }
   ],
   "source": [
    "plt.scatter(GDP_PPP['2013'],Fertility['2013'],s=10)\n",
    "plt.ylabel('Fertility rate (tot births per woman)')\n",
    "plt.xlabel('GDP per capita PPP (current international $)')\n",
    "plt.title('Fertility rate vs. GDP per capita in 2013')\n",
    "plt.show()"
   ]
  },
  {
   "cell_type": "code",
   "execution_count": 96,
   "id": "3556cbce",
   "metadata": {},
   "outputs": [
    {
     "name": "stdout",
     "output_type": "stream",
     "text": [
      "The correlation coefficient is -0.279\n"
     ]
    }
   ],
   "source": [
    "corr_coeff=GDP_PPP['2013'].corr(Fertility['2013'])\n",
    "print('The correlation coefficient is '+str(f'{corr_coeff:.3}'))"
   ]
  },
  {
   "cell_type": "markdown",
   "id": "960e34fc",
   "metadata": {},
   "source": [
    "## Q4: Monthly average house price\n"
   ]
  },
  {
   "cell_type": "code",
   "execution_count": 20,
   "id": "928cc132",
   "metadata": {},
   "outputs": [
    {
     "data": {
      "text/html": [
       "<div>\n",
       "<style scoped>\n",
       "    .dataframe tbody tr th:only-of-type {\n",
       "        vertical-align: middle;\n",
       "    }\n",
       "\n",
       "    .dataframe tbody tr th {\n",
       "        vertical-align: top;\n",
       "    }\n",
       "\n",
       "    .dataframe thead th {\n",
       "        text-align: right;\n",
       "    }\n",
       "</style>\n",
       "<table border=\"1\" class=\"dataframe\">\n",
       "  <thead>\n",
       "    <tr style=\"text-align: right;\">\n",
       "      <th></th>\n",
       "      <th>Unnamed: 0</th>\n",
       "      <th>Average House Price</th>\n",
       "      <th>INDEX Q1 1993=100</th>\n",
       "      <th>Seasonally Adjusted Index</th>\n",
       "      <th>Monthly % Change (SA)</th>\n",
       "      <th>Year % Change</th>\n",
       "      <th>Latest 3 months on previous 3 months</th>\n",
       "    </tr>\n",
       "  </thead>\n",
       "  <tbody>\n",
       "    <tr>\n",
       "      <th>0</th>\n",
       "      <td>1991-01-01</td>\n",
       "      <td>53051.721106</td>\n",
       "      <td>105.832511</td>\n",
       "      <td>107.127299</td>\n",
       "      <td>NaN</td>\n",
       "      <td>NaN</td>\n",
       "      <td>NaN</td>\n",
       "    </tr>\n",
       "    <tr>\n",
       "      <th>1</th>\n",
       "      <td>1991-02-01</td>\n",
       "      <td>53496.798746</td>\n",
       "      <td>106.720393</td>\n",
       "      <td>107.494996</td>\n",
       "      <td>0.003432</td>\n",
       "      <td>NaN</td>\n",
       "      <td>NaN</td>\n",
       "    </tr>\n",
       "    <tr>\n",
       "      <th>2</th>\n",
       "      <td>1991-03-01</td>\n",
       "      <td>52892.861606</td>\n",
       "      <td>105.515603</td>\n",
       "      <td>106.525649</td>\n",
       "      <td>-0.009018</td>\n",
       "      <td>NaN</td>\n",
       "      <td>NaN</td>\n",
       "    </tr>\n",
       "    <tr>\n",
       "      <th>3</th>\n",
       "      <td>1991-04-01</td>\n",
       "      <td>53677.435270</td>\n",
       "      <td>107.080744</td>\n",
       "      <td>107.126622</td>\n",
       "      <td>0.005642</td>\n",
       "      <td>NaN</td>\n",
       "      <td>NaN</td>\n",
       "    </tr>\n",
       "    <tr>\n",
       "      <th>4</th>\n",
       "      <td>1991-05-01</td>\n",
       "      <td>54385.726747</td>\n",
       "      <td>108.493710</td>\n",
       "      <td>107.266757</td>\n",
       "      <td>0.001308</td>\n",
       "      <td>NaN</td>\n",
       "      <td>NaN</td>\n",
       "    </tr>\n",
       "  </tbody>\n",
       "</table>\n",
       "</div>"
      ],
      "text/plain": [
       "  Unnamed: 0  Average House Price  INDEX Q1 1993=100  \\\n",
       "0 1991-01-01         53051.721106         105.832511   \n",
       "1 1991-02-01         53496.798746         106.720393   \n",
       "2 1991-03-01         52892.861606         105.515603   \n",
       "3 1991-04-01         53677.435270         107.080744   \n",
       "4 1991-05-01         54385.726747         108.493710   \n",
       "\n",
       "   Seasonally Adjusted Index  Monthly % Change (SA)  Year % Change  \\\n",
       "0                 107.127299                    NaN            NaN   \n",
       "1                 107.494996               0.003432            NaN   \n",
       "2                 106.525649              -0.009018            NaN   \n",
       "3                 107.126622               0.005642            NaN   \n",
       "4                 107.266757               0.001308            NaN   \n",
       "\n",
       "   Latest 3 months on previous 3 months  \n",
       "0                                   NaN  \n",
       "1                                   NaN  \n",
       "2                                   NaN  \n",
       "3                                   NaN  \n",
       "4                                   NaN  "
      ]
     },
     "execution_count": 20,
     "metadata": {},
     "output_type": "execute_result"
    }
   ],
   "source": [
    "House.head()"
   ]
  },
  {
   "cell_type": "code",
   "execution_count": 21,
   "id": "80aa9ac8",
   "metadata": {},
   "outputs": [
    {
     "data": {
      "text/html": [
       "<div>\n",
       "<style scoped>\n",
       "    .dataframe tbody tr th:only-of-type {\n",
       "        vertical-align: middle;\n",
       "    }\n",
       "\n",
       "    .dataframe tbody tr th {\n",
       "        vertical-align: top;\n",
       "    }\n",
       "\n",
       "    .dataframe thead th {\n",
       "        text-align: right;\n",
       "    }\n",
       "</style>\n",
       "<table border=\"1\" class=\"dataframe\">\n",
       "  <thead>\n",
       "    <tr style=\"text-align: right;\">\n",
       "      <th></th>\n",
       "      <th>Date</th>\n",
       "      <th>Average House Price</th>\n",
       "      <th>INDEX Q1 1993=100</th>\n",
       "      <th>Seasonally Adjusted Index</th>\n",
       "      <th>Monthly % Change (SA)</th>\n",
       "      <th>Year % Change</th>\n",
       "      <th>Latest 3 months on previous 3 months</th>\n",
       "    </tr>\n",
       "  </thead>\n",
       "  <tbody>\n",
       "    <tr>\n",
       "      <th>0</th>\n",
       "      <td>1991-01-01</td>\n",
       "      <td>53051.721106</td>\n",
       "      <td>105.832511</td>\n",
       "      <td>107.127299</td>\n",
       "      <td>NaN</td>\n",
       "      <td>NaN</td>\n",
       "      <td>NaN</td>\n",
       "    </tr>\n",
       "    <tr>\n",
       "      <th>1</th>\n",
       "      <td>1991-02-01</td>\n",
       "      <td>53496.798746</td>\n",
       "      <td>106.720393</td>\n",
       "      <td>107.494996</td>\n",
       "      <td>0.003432</td>\n",
       "      <td>NaN</td>\n",
       "      <td>NaN</td>\n",
       "    </tr>\n",
       "    <tr>\n",
       "      <th>2</th>\n",
       "      <td>1991-03-01</td>\n",
       "      <td>52892.861606</td>\n",
       "      <td>105.515603</td>\n",
       "      <td>106.525649</td>\n",
       "      <td>-0.009018</td>\n",
       "      <td>NaN</td>\n",
       "      <td>NaN</td>\n",
       "    </tr>\n",
       "    <tr>\n",
       "      <th>3</th>\n",
       "      <td>1991-04-01</td>\n",
       "      <td>53677.435270</td>\n",
       "      <td>107.080744</td>\n",
       "      <td>107.126622</td>\n",
       "      <td>0.005642</td>\n",
       "      <td>NaN</td>\n",
       "      <td>NaN</td>\n",
       "    </tr>\n",
       "    <tr>\n",
       "      <th>4</th>\n",
       "      <td>1991-05-01</td>\n",
       "      <td>54385.726747</td>\n",
       "      <td>108.493710</td>\n",
       "      <td>107.266757</td>\n",
       "      <td>0.001308</td>\n",
       "      <td>NaN</td>\n",
       "      <td>NaN</td>\n",
       "    </tr>\n",
       "  </tbody>\n",
       "</table>\n",
       "</div>"
      ],
      "text/plain": [
       "        Date  Average House Price  INDEX Q1 1993=100  \\\n",
       "0 1991-01-01         53051.721106         105.832511   \n",
       "1 1991-02-01         53496.798746         106.720393   \n",
       "2 1991-03-01         52892.861606         105.515603   \n",
       "3 1991-04-01         53677.435270         107.080744   \n",
       "4 1991-05-01         54385.726747         108.493710   \n",
       "\n",
       "   Seasonally Adjusted Index  Monthly % Change (SA)  Year % Change  \\\n",
       "0                 107.127299                    NaN            NaN   \n",
       "1                 107.494996               0.003432            NaN   \n",
       "2                 106.525649              -0.009018            NaN   \n",
       "3                 107.126622               0.005642            NaN   \n",
       "4                 107.266757               0.001308            NaN   \n",
       "\n",
       "   Latest 3 months on previous 3 months  \n",
       "0                                   NaN  \n",
       "1                                   NaN  \n",
       "2                                   NaN  \n",
       "3                                   NaN  \n",
       "4                                   NaN  "
      ]
     },
     "execution_count": 21,
     "metadata": {},
     "output_type": "execute_result"
    }
   ],
   "source": [
    "#Select the date range\n",
    "datecol=House.columns[0]\n",
    "House2 = House[House[datecol].isin(pd.date_range('1/1/1991', '12/1/2016'))]\n",
    "\n",
    "\n",
    "House2=House2.rename(columns={'Unnamed: 0':'Date'})\n",
    "House2.head()\n"
   ]
  },
  {
   "cell_type": "code",
   "execution_count": 5,
   "id": "c1ce17f4",
   "metadata": {},
   "outputs": [
    {
     "data": {
      "image/png": "[encoded data removed]",
      "text/plain": [
       "<Figure size 432x288 with 1 Axes>"
      ]
     },
     "metadata": {
      "needs_background": "light"
     },
     "output_type": "display_data"
    }
   ],
   "source": [
    "## time series plot\n",
    "plt.plot(House2.iloc[:,1])\n",
    "plt.xlabel('Date')\n",
    "plt.ylabel('Monthly average house price (£)')\n",
    "plt.title('Monthly average house price (1991-2016)')\n",
    "plt.show()"
   ]
  },
  {
   "cell_type": "code",
   "execution_count": 6,
   "id": "d7b47fb7",
   "metadata": {},
   "outputs": [
    {
     "data": {
      "text/plain": [
       "0.11096314934617037"
      ]
     },
     "execution_count": 6,
     "metadata": {},
     "output_type": "execute_result"
    }
   ],
   "source": [
    "## Construct autocorrelation function \n",
    "t20=np.arange(1,312)\n",
    "p=np.array(House2.iloc[:,1])\n",
    "return_temp = lambda t:(p[t]/p[t-1])-1\n",
    "return_lst=np.array(list(map(return_temp,t20)))\n",
    "\n",
    "# Find ACF value\n",
    "ACF_val1 = 1.96/312**(0.5)\n",
    "ACF_val2= -1.96/312**(0.5)\n",
    "ACF_val1"
   ]
  },
  {
   "cell_type": "code",
   "execution_count": 7,
   "id": "c52c22ab",
   "metadata": {},
   "outputs": [
    {
     "data": {
      "image/png": "[encoded data removed]",
      "text/plain": [
       "<Figure size 432x288 with 1 Axes>"
      ]
     },
     "metadata": {
      "needs_background": "light"
     },
     "output_type": "display_data"
    }
   ],
   "source": [
    "## Plot ACF\n",
    "fig,ax=plt.subplots()\n",
    "sm.graphics.tsa.plot_acf(return_lst,lags=20,ax=ax)\n",
    "ax.axhline(ACF_val1,color='r',label='p=0.05')\n",
    "ax.axhline(ACF_val2,color='r')\n",
    "plt.legend()\n",
    "plt.show()"
   ]
  },
  {
   "cell_type": "code",
   "execution_count": 91,
   "id": "81919fb6",
   "metadata": {},
   "outputs": [
    {
     "name": "stdout",
     "output_type": "stream",
     "text": [
      "The annualized return is 2168.17%\n"
     ]
    }
   ],
   "source": [
    "# Annualized return\n",
    "annual_return=((return_lst_cums[-1]/return_lst_cums[0])**(1/(312/12))-1)*100\n",
    "print(f'The annualized return is {annual_return:.2%}')"
   ]
  },
  {
   "cell_type": "markdown",
   "id": "e2954bfa",
   "metadata": {},
   "source": [
    "## Q5"
   ]
  },
  {
   "cell_type": "code",
   "execution_count": 9,
   "id": "bd160abd",
   "metadata": {},
   "outputs": [
    {
     "data": {
      "text/html": [
       "<div>\n",
       "<style scoped>\n",
       "    .dataframe tbody tr th:only-of-type {\n",
       "        vertical-align: middle;\n",
       "    }\n",
       "\n",
       "    .dataframe tbody tr th {\n",
       "        vertical-align: top;\n",
       "    }\n",
       "\n",
       "    .dataframe thead th {\n",
       "        text-align: right;\n",
       "    }\n",
       "</style>\n",
       "<table border=\"1\" class=\"dataframe\">\n",
       "  <thead>\n",
       "    <tr style=\"text-align: right;\">\n",
       "      <th></th>\n",
       "      <th>Date</th>\n",
       "      <th>Open</th>\n",
       "      <th>High</th>\n",
       "      <th>Low</th>\n",
       "      <th>Close</th>\n",
       "      <th>Volume</th>\n",
       "      <th>Adj Close</th>\n",
       "    </tr>\n",
       "    <tr>\n",
       "      <th>Date</th>\n",
       "      <th></th>\n",
       "      <th></th>\n",
       "      <th></th>\n",
       "      <th></th>\n",
       "      <th></th>\n",
       "      <th></th>\n",
       "      <th></th>\n",
       "    </tr>\n",
       "  </thead>\n",
       "  <tbody>\n",
       "    <tr>\n",
       "      <th>1/1/1991</th>\n",
       "      <td>1/1/1991</td>\n",
       "      <td>2143.500000</td>\n",
       "      <td>2182.100098</td>\n",
       "      <td>2052.300049</td>\n",
       "      <td>2170.300049</td>\n",
       "      <td>0</td>\n",
       "      <td>2170.300049</td>\n",
       "    </tr>\n",
       "    <tr>\n",
       "      <th>2/1/1991</th>\n",
       "      <td>2/1/1991</td>\n",
       "      <td>2168.500000</td>\n",
       "      <td>2388.399902</td>\n",
       "      <td>2155.600098</td>\n",
       "      <td>2380.899902</td>\n",
       "      <td>0</td>\n",
       "      <td>2380.899902</td>\n",
       "    </tr>\n",
       "    <tr>\n",
       "      <th>3/1/1991</th>\n",
       "      <td>3/1/1991</td>\n",
       "      <td>2374.899902</td>\n",
       "      <td>2527.100098</td>\n",
       "      <td>2368.399902</td>\n",
       "      <td>2456.500000</td>\n",
       "      <td>0</td>\n",
       "      <td>2456.500000</td>\n",
       "    </tr>\n",
       "    <tr>\n",
       "      <th>4/1/1991</th>\n",
       "      <td>4/1/1991</td>\n",
       "      <td>2456.500000</td>\n",
       "      <td>2555.300049</td>\n",
       "      <td>2438.600098</td>\n",
       "      <td>2486.199951</td>\n",
       "      <td>0</td>\n",
       "      <td>2486.199951</td>\n",
       "    </tr>\n",
       "    <tr>\n",
       "      <th>5/1/1991</th>\n",
       "      <td>5/1/1991</td>\n",
       "      <td>2487.399902</td>\n",
       "      <td>2554.899902</td>\n",
       "      <td>2444.600098</td>\n",
       "      <td>2499.500000</td>\n",
       "      <td>0</td>\n",
       "      <td>2499.500000</td>\n",
       "    </tr>\n",
       "  </tbody>\n",
       "</table>\n",
       "</div>"
      ],
      "text/plain": [
       "              Date         Open         High          Low        Close  \\\n",
       "Date                                                                     \n",
       "1/1/1991  1/1/1991  2143.500000  2182.100098  2052.300049  2170.300049   \n",
       "2/1/1991  2/1/1991  2168.500000  2388.399902  2155.600098  2380.899902   \n",
       "3/1/1991  3/1/1991  2374.899902  2527.100098  2368.399902  2456.500000   \n",
       "4/1/1991  4/1/1991  2456.500000  2555.300049  2438.600098  2486.199951   \n",
       "5/1/1991  5/1/1991  2487.399902  2554.899902  2444.600098  2499.500000   \n",
       "\n",
       "          Volume    Adj Close  \n",
       "Date                           \n",
       "1/1/1991       0  2170.300049  \n",
       "2/1/1991       0  2380.899902  \n",
       "3/1/1991       0  2456.500000  \n",
       "4/1/1991       0  2486.199951  \n",
       "5/1/1991       0  2499.500000  "
      ]
     },
     "execution_count": 9,
     "metadata": {},
     "output_type": "execute_result"
    }
   ],
   "source": [
    "datecol = FTSE100.columns[0]\n",
    "FTSE100 = FTSE100.set_index(datecol,drop=False)\n",
    "FTSE100 = FTSE100.reindex(index=FTSE100.index[::-1])\n",
    "FTSE100.head()"
   ]
  },
  {
   "cell_type": "code",
   "execution_count": 10,
   "id": "f417da4e",
   "metadata": {},
   "outputs": [],
   "source": [
    "t20=np.arange(0,312)\n",
    "FTSE100_temp = np.array(FTSE100['Adj Close'])\n",
    "return_FTSE_lst=[]\n",
    "for t in range(len(FTSE100_temp)):\n",
    "    if t==0:\n",
    "        return_FTSE=np.nan\n",
    "    else:\n",
    "        return_FTSE=(FTSE100_temp[t]/FTSE100_temp[t-1])-1\n",
    "    return_FTSE_lst.append(return_FTSE)\n",
    "    \n",
    "FTSE100_cums = np.cumsum(return_FTSE_lst[1:])\n"
   ]
  },
  {
   "cell_type": "code",
   "execution_count": 15,
   "id": "8fc38928",
   "metadata": {},
   "outputs": [],
   "source": [
    "t20=np.arange(0,311)\n",
    "FTSE100_norms_temp= lambda t:(FTSE100_cums[t]/FTSE100_cums[0])*100\n",
    "FTSE100_norms = np.array(list(map(FTSE100_norms_temp,t20)))"
   ]
  },
  {
   "cell_type": "code",
   "execution_count": 136,
   "id": "d6c75652",
   "metadata": {},
   "outputs": [
    {
     "name": "stdout",
     "output_type": "stream",
     "text": [
      "The annualized FTSE return is 4.463%\n"
     ]
    }
   ],
   "source": [
    "## Annualized FSTE return\n",
    "tt=np.arange(1,312)\n",
    "ann_temp = lambda t:1+return_FTSE_lst[t]\n",
    "ann_lst=np.array(list(map(ann_temp,tt)))\n",
    "annual_return_FTSE=(np.prod(ann_lst)**(12/312)-1)\n",
    "# annual_return_FTSE=((FTSE100_cums[-1]/FTSE100_cums[0])**(1/(312/12))-1)*100\n",
    "print(f'The annualized FTSE return is {annual_return_FTSE:.3%}')"
   ]
  },
  {
   "cell_type": "code",
   "execution_count": 135,
   "id": "f98c84d2",
   "metadata": {},
   "outputs": [
    {
     "name": "stdout",
     "output_type": "stream",
     "text": [
      "The annualized house return is 5.354%\n"
     ]
    }
   ],
   "source": [
    "## Annualized house return\n",
    "ann_temp = lambda t:1+return_house_lst[t]\n",
    "ann_lst=np.array(list(map(ann_temp,tt)))\n",
    "annual_return_house=(np.prod(ann_lst)**(12/312)-1)\n",
    "print(f'The annualized house return is {annual_return_house:.3%}')"
   ]
  },
  {
   "cell_type": "code",
   "execution_count": 121,
   "id": "126427a3",
   "metadata": {},
   "outputs": [],
   "source": [
    "return_house_lst=[]\n",
    "p=np.array(House2.iloc[:,1])\n",
    "for t in range(len(FTSE100_temp)):\n",
    "    if t==0:\n",
    "        return_house=np.nan\n",
    "    else:\n",
    "        return_house=(p[t]/p[t-1])-1\n",
    "    return_house_lst.append(return_house)\n",
    "\n",
    "return_lst_cums = np.cumsum(return_house_lst[1:])    \n",
    "t20=np.arange(0,311)\n",
    "\n",
    "house_norms_temp= lambda t:(return_lst_cums[t]/return_lst_cums[0])*100\n",
    "house_norms = np.array(list(map(house_norms_temp,t20)))\n",
    "house_norms2=np.append(np.nan,house_norms)\n",
    "House2['House_norms']=house_norms2"
   ]
  },
  {
   "cell_type": "code",
   "execution_count": 79,
   "id": "789d9923",
   "metadata": {},
   "outputs": [
    {
     "name": "stderr",
     "output_type": "stream",
     "text": [
      "<ipython-input-79-9a3c6336e223>:6: UserWarning: 'set_params()' not defined for locator of type <class 'matplotlib.dates.AutoDateLocator'>\n",
      "  plt.locator_params(nbins = 10)\n"
     ]
    },
    {
     "data": {
      "image/png": "[encoded data removed]",
      "text/plain": [
       "<Figure size 432x288 with 1 Axes>"
      ]
     },
     "metadata": {
      "needs_background": "light"
     },
     "output_type": "display_data"
    }
   ],
   "source": [
    "ax=plt.gca()\n",
    "ax.plot(House2.iloc[1:,0], FTSE100_norms,label='Stock: FTSE100')\n",
    "ax.plot(House2.iloc[:,0],House2['House_norms'],label='House Price')\n",
    "plt.xlabel('Date')\n",
    "plt.ylabel('Normalized return')\n",
    "plt.locator_params(nbins = 10)\n",
    "plt.title('Cumulative Return from the Stock vs. House Market')\n",
    "ax.legend()\n",
    "plt.show()"
   ]
  }
 ],
 "metadata": {
  "kernelspec": {
   "display_name": "Python 3",
   "language": "python",
   "name": "python3"
  },
  "language_info": {
   "codemirror_mode": {
    "name": "ipython",
    "version": 3
   },
   "file_extension": ".py",
   "mimetype": "text/x-python",
   "name": "python",
   "nbconvert_exporter": "python",
   "pygments_lexer": "ipython3",
   "version": "3.8.8"
  }
 },
 "nbformat": 4,
 "nbformat_minor": 5
}
